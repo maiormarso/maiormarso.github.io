{
  "nbformat": 4,
  "nbformat_minor": 0,
  "metadata": {
    "colab": {
      "name": "Tidie_vs_Explode.ipynb",
      "provenance": [],
      "collapsed_sections": []
    },
    "kernelspec": {
      "name": "python3",
      "display_name": "Python 3"
    }
  },
  "cells": [
    {
      "cell_type": "markdown",
      "metadata": {
        "id": "IAl9yPX-SQTj",
        "colab_type": "text"
      },
      "source": [
        "##Tidie vs Explode:\n",
        "bicycle by maior marso"
      ]
    },
    {
      "cell_type": "markdown",
      "metadata": {
        "id": "nL4zDK9WR7Ff",
        "colab_type": "text"
      },
      "source": [
        "popup from: https://pbs.twimg.com/media/EBy01ERXoAE3ava.jpg"
      ]
    },
    {
      "cell_type": "code",
      "metadata": {
        "id": "wnLyVtx2QQg0",
        "colab_type": "code",
        "colab": {}
      },
      "source": [
        "import pandas as pd"
      ],
      "execution_count": 0,
      "outputs": []
    },
    {
      "cell_type": "code",
      "metadata": {
        "id": "mf_wj5z3QVeU",
        "colab_type": "code",
        "colab": {}
      },
      "source": [
        "df = pd.DataFrame({'bycycle':['tires','brakes','handlebars'],\n",
        "                'parts':[['rubber','wheel','thin','wide'],\n",
        "                               ['foot','hand','rear','front'],\n",
        "                               ['chrome','handles','streamers','brakes'],\n",
        "                         ]},\n",
        "                       index = ['a','b','c'])"
      ],
      "execution_count": 0,
      "outputs": []
    },
    {
      "cell_type": "code",
      "metadata": {
        "id": "xLpzSZeCRSak",
        "colab_type": "code",
        "colab": {
          "base_uri": "https://localhost:8080/",
          "height": 138
        },
        "outputId": "7089200b-2fea-4116-9b79-11c9ccb06186"
      },
      "source": [
        "df"
      ],
      "execution_count": 28,
      "outputs": [
        {
          "output_type": "execute_result",
          "data": {
            "text/html": [
              "<div>\n",
              "<style scoped>\n",
              "    .dataframe tbody tr th:only-of-type {\n",
              "        vertical-align: middle;\n",
              "    }\n",
              "\n",
              "    .dataframe tbody tr th {\n",
              "        vertical-align: top;\n",
              "    }\n",
              "\n",
              "    .dataframe thead th {\n",
              "        text-align: right;\n",
              "    }\n",
              "</style>\n",
              "<table border=\"1\" class=\"dataframe\">\n",
              "  <thead>\n",
              "    <tr style=\"text-align: right;\">\n",
              "      <th></th>\n",
              "      <th>bycycle</th>\n",
              "      <th>parts</th>\n",
              "    </tr>\n",
              "  </thead>\n",
              "  <tbody>\n",
              "    <tr>\n",
              "      <th>a</th>\n",
              "      <td>tires</td>\n",
              "      <td>[rubber, wheel, thin, wide]</td>\n",
              "    </tr>\n",
              "    <tr>\n",
              "      <th>b</th>\n",
              "      <td>brakes</td>\n",
              "      <td>[foot, hand, rear, front]</td>\n",
              "    </tr>\n",
              "    <tr>\n",
              "      <th>c</th>\n",
              "      <td>handlebars</td>\n",
              "      <td>[chrome, handles, streamers, brakes]</td>\n",
              "    </tr>\n",
              "  </tbody>\n",
              "</table>\n",
              "</div>"
            ],
            "text/plain": [
              "      bycycle                                 parts\n",
              "a       tires           [rubber, wheel, thin, wide]\n",
              "b      brakes             [foot, hand, rear, front]\n",
              "c  handlebars  [chrome, handles, streamers, brakes]"
            ]
          },
          "metadata": {
            "tags": []
          },
          "execution_count": 28
        }
      ]
    },
    {
      "cell_type": "code",
      "metadata": {
        "id": "Hk-j7ns3RWmJ",
        "colab_type": "code",
        "colab": {}
      },
      "source": [
        "df2 = df.explode('parts')"
      ],
      "execution_count": 0,
      "outputs": []
    },
    {
      "cell_type": "code",
      "metadata": {
        "id": "-HpFqmLHRi9s",
        "colab_type": "code",
        "colab": {
          "base_uri": "https://localhost:8080/",
          "height": 408
        },
        "outputId": "bab0bd85-a156-41d7-e701-85fed85c45dd"
      },
      "source": [
        "df2"
      ],
      "execution_count": 30,
      "outputs": [
        {
          "output_type": "execute_result",
          "data": {
            "text/html": [
              "<div>\n",
              "<style scoped>\n",
              "    .dataframe tbody tr th:only-of-type {\n",
              "        vertical-align: middle;\n",
              "    }\n",
              "\n",
              "    .dataframe tbody tr th {\n",
              "        vertical-align: top;\n",
              "    }\n",
              "\n",
              "    .dataframe thead th {\n",
              "        text-align: right;\n",
              "    }\n",
              "</style>\n",
              "<table border=\"1\" class=\"dataframe\">\n",
              "  <thead>\n",
              "    <tr style=\"text-align: right;\">\n",
              "      <th></th>\n",
              "      <th>bycycle</th>\n",
              "      <th>parts</th>\n",
              "    </tr>\n",
              "  </thead>\n",
              "  <tbody>\n",
              "    <tr>\n",
              "      <th>a</th>\n",
              "      <td>tires</td>\n",
              "      <td>rubber</td>\n",
              "    </tr>\n",
              "    <tr>\n",
              "      <th>a</th>\n",
              "      <td>tires</td>\n",
              "      <td>wheel</td>\n",
              "    </tr>\n",
              "    <tr>\n",
              "      <th>a</th>\n",
              "      <td>tires</td>\n",
              "      <td>thin</td>\n",
              "    </tr>\n",
              "    <tr>\n",
              "      <th>a</th>\n",
              "      <td>tires</td>\n",
              "      <td>wide</td>\n",
              "    </tr>\n",
              "    <tr>\n",
              "      <th>b</th>\n",
              "      <td>brakes</td>\n",
              "      <td>foot</td>\n",
              "    </tr>\n",
              "    <tr>\n",
              "      <th>b</th>\n",
              "      <td>brakes</td>\n",
              "      <td>hand</td>\n",
              "    </tr>\n",
              "    <tr>\n",
              "      <th>b</th>\n",
              "      <td>brakes</td>\n",
              "      <td>rear</td>\n",
              "    </tr>\n",
              "    <tr>\n",
              "      <th>b</th>\n",
              "      <td>brakes</td>\n",
              "      <td>front</td>\n",
              "    </tr>\n",
              "    <tr>\n",
              "      <th>c</th>\n",
              "      <td>handlebars</td>\n",
              "      <td>chrome</td>\n",
              "    </tr>\n",
              "    <tr>\n",
              "      <th>c</th>\n",
              "      <td>handlebars</td>\n",
              "      <td>handles</td>\n",
              "    </tr>\n",
              "    <tr>\n",
              "      <th>c</th>\n",
              "      <td>handlebars</td>\n",
              "      <td>streamers</td>\n",
              "    </tr>\n",
              "    <tr>\n",
              "      <th>c</th>\n",
              "      <td>handlebars</td>\n",
              "      <td>brakes</td>\n",
              "    </tr>\n",
              "  </tbody>\n",
              "</table>\n",
              "</div>"
            ],
            "text/plain": [
              "      bycycle      parts\n",
              "a       tires     rubber\n",
              "a       tires      wheel\n",
              "a       tires       thin\n",
              "a       tires       wide\n",
              "b      brakes       foot\n",
              "b      brakes       hand\n",
              "b      brakes       rear\n",
              "b      brakes      front\n",
              "c  handlebars     chrome\n",
              "c  handlebars    handles\n",
              "c  handlebars  streamers\n",
              "c  handlebars     brakes"
            ]
          },
          "metadata": {
            "tags": []
          },
          "execution_count": 30
        }
      ]
    }
  ]
}